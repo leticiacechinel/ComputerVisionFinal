{
  "nbformat": 4,
  "nbformat_minor": 0,
  "metadata": {
    "colab": {
      "provenance": []
    },
    "kernelspec": {
      "name": "python3",
      "display_name": "Python 3"
    },
    "language_info": {
      "name": "python"
    }
  },
  "cells": [
    {
      "cell_type": "markdown",
      "source": [
        "# importando os dados cropped"
      ],
      "metadata": {
        "id": "XB9elEoaun90"
      }
    },
    {
      "cell_type": "code",
      "source": [
        "from google.colab import drive\n",
        "drive.mount('/content/drive')"
      ],
      "metadata": {
        "colab": {
          "base_uri": "https://localhost:8080/"
        },
        "id": "klTVuj6QuiGl",
        "outputId": "3c3ca4c9-861d-4397-f050-8f857fd40ddc"
      },
      "execution_count": null,
      "outputs": [
        {
          "output_type": "stream",
          "name": "stdout",
          "text": [
            "Mounted at /content/drive\n"
          ]
        }
      ]
    },
    {
      "cell_type": "code",
      "source": [
        "image_path = \"drive/My Drive/mascaras/only_faces_images/\"\n"
      ],
      "metadata": {
        "id": "iwEI4EeWu2JV"
      },
      "execution_count": null,
      "outputs": []
    },
    {
      "cell_type": "code",
      "source": [
        "import cv2 \n",
        "import os \n",
        "import numpy as np\n",
        "\n",
        "X = []\n",
        "y = []\n",
        "\n",
        "\n",
        "for image in os.listdir(image_path):\n",
        "  try:\n",
        "    y_ = int(image.split('_')[0])\n",
        "    x = cv2.imread(image_path + image)\n",
        "    x = cv2.resize(x, (52,52))\n",
        "\n",
        "    x = np.asarray(x).astype('float32')\n",
        "    # print(x.shape)\n",
        "    y.append(y_)\n",
        "    X.append(x)\n",
        "  except:\n",
        "    print(\"falhou um\")"
      ],
      "metadata": {
        "colab": {
          "base_uri": "https://localhost:8080/"
        },
        "id": "Eig3snTMu2Sj",
        "outputId": "ea385bc1-f93f-439f-8a11-d86250b84107"
      },
      "execution_count": null,
      "outputs": [
        {
          "output_type": "stream",
          "name": "stdout",
          "text": [
            "falhou um\n",
            "falhou um\n"
          ]
        }
      ]
    },
    {
      "cell_type": "markdown",
      "source": [
        "# Checando desbalanceamento"
      ],
      "metadata": {
        "id": "lj92vNhyxSb5"
      }
    },
    {
      "cell_type": "code",
      "source": [
        "import pandas as pd\n",
        "\n",
        "pd.Series(y).value_counts()"
      ],
      "metadata": {
        "colab": {
          "base_uri": "https://localhost:8080/"
        },
        "id": "ODnCOjGEug-k",
        "outputId": "1cf0dfa9-077e-48bd-ed97-b14be6529e71"
      },
      "execution_count": null,
      "outputs": [
        {
          "output_type": "execute_result",
          "data": {
            "text/plain": [
              "1    404\n",
              "0     73\n",
              "2     25\n",
              "dtype: int64"
            ]
          },
          "metadata": {},
          "execution_count": 79
        }
      ]
    },
    {
      "cell_type": "markdown",
      "source": [
        "# fazendo hot encoder e separando treino e teste (não é necessário para rodar a rede)"
      ],
      "metadata": {
        "id": "o8H5flJQjS0D"
      }
    },
    {
      "cell_type": "code",
      "source": [
        "from sklearn.preprocessing import OneHotEncoder\n",
        "\n",
        "ohe = OneHotEncoder()\n",
        "\n",
        "y = ohe.fit_transform(np.asarray(y).reshape(-1, 1))"
      ],
      "metadata": {
        "id": "QqJhv4rPd1l6"
      },
      "execution_count": null,
      "outputs": []
    },
    {
      "cell_type": "code",
      "source": [
        "from sklearn.model_selection import train_test_split\n",
        "\n",
        "X_train, X_test, y_train, y_test = train_test_split(X, y, test_size=0.33, random_state=42)"
      ],
      "metadata": {
        "id": "_BaJ6uKGjV8P"
      },
      "execution_count": null,
      "outputs": []
    },
    {
      "cell_type": "markdown",
      "source": [
        "# continuação"
      ],
      "metadata": {
        "id": "-AY0fI0blZ45"
      }
    },
    {
      "cell_type": "code",
      "execution_count": null,
      "metadata": {
        "id": "NLQAfelWrXXd"
      },
      "outputs": [],
      "source": [
        "from keras.applications import MobileNetV2"
      ]
    },
    {
      "cell_type": "code",
      "source": [
        "mbnet = MobileNetV2(\n",
        "    input_shape=(52,52,3),\n",
        "    alpha=1.0,\n",
        "    include_top=False,\n",
        "    weights=\"imagenet\",\n",
        "    input_tensor=None,\n",
        "    pooling=None,\n",
        "    classes=1000,\n",
        "    classifier_activation=\"softmax\"\n",
        ")"
      ],
      "metadata": {
        "colab": {
          "base_uri": "https://localhost:8080/"
        },
        "id": "k2GJnQQBuQz2",
        "outputId": "4a5562e1-bb38-4bb6-d4a9-4a12ffda01d9"
      },
      "execution_count": null,
      "outputs": [
        {
          "output_type": "stream",
          "name": "stderr",
          "text": [
            "WARNING:tensorflow:`input_shape` is undefined or non-square, or `rows` is not in [96, 128, 160, 192, 224]. Weights for input shape (224, 224) will be loaded as the default.\n"
          ]
        },
        {
          "output_type": "stream",
          "name": "stdout",
          "text": [
            "Downloading data from https://storage.googleapis.com/tensorflow/keras-applications/mobilenet_v2/mobilenet_v2_weights_tf_dim_ordering_tf_kernels_1.0_224_no_top.h5\n",
            "9406464/9406464 [==============================] - 0s 0us/step\n"
          ]
        }
      ]
    },
    {
      "cell_type": "code",
      "source": [
        "for layer in mbnet.layers:\n",
        "  layer.trainable = False"
      ],
      "metadata": {
        "id": "KPwtgtNtuaLU"
      },
      "execution_count": null,
      "outputs": []
    },
    {
      "cell_type": "code",
      "source": [
        "import tensorflow as tf\n",
        "\n",
        "neural_net = tf.keras.Sequential([\n",
        "  mbnet,\n",
        "  tf.keras.layers.Conv2D(64, kernel_size = (2,2)),\n",
        "  tf.keras.layers.Dropout(0.3),\n",
        "  tf.keras.layers.Flatten(),\n",
        "  tf.keras.layers.Dense(1,activation='softmax')\n",
        "])"
      ],
      "metadata": {
        "id": "P410J5sWv2Fk"
      },
      "execution_count": null,
      "outputs": []
    },
    {
      "cell_type": "code",
      "source": [
        "neural_net.summary()"
      ],
      "metadata": {
        "colab": {
          "base_uri": "https://localhost:8080/"
        },
        "id": "IGPl7H4cwwBv",
        "outputId": "d2e62edd-127b-40f0-93d1-4a3269d151a9"
      },
      "execution_count": null,
      "outputs": [
        {
          "output_type": "stream",
          "name": "stdout",
          "text": [
            "Model: \"sequential_5\"\n",
            "_________________________________________________________________\n",
            " Layer (type)                Output Shape              Param #   \n",
            "=================================================================\n",
            " mobilenetv2_1.00_224 (Funct  (None, 2, 2, 1280)       2257984   \n",
            " ional)                                                          \n",
            "                                                                 \n",
            " conv2d_1 (Conv2D)           (None, 1, 1, 64)          327744    \n",
            "                                                                 \n",
            " dropout_5 (Dropout)         (None, 1, 1, 64)          0         \n",
            "                                                                 \n",
            " flatten (Flatten)           (None, 64)                0         \n",
            "                                                                 \n",
            " dense_5 (Dense)             (None, 1)                 65        \n",
            "                                                                 \n",
            "=================================================================\n",
            "Total params: 2,585,793\n",
            "Trainable params: 2,551,681\n",
            "Non-trainable params: 34,112\n",
            "_________________________________________________________________\n"
          ]
        }
      ]
    },
    {
      "cell_type": "code",
      "source": [
        "neural_net.compile(\n",
        "  optimizer=tf.keras.optimizers.Adam(),\n",
        "  loss=tf.keras.losses.CategoricalCrossentropy(from_logits=True),\n",
        "  metrics=['acc'])"
      ],
      "metadata": {
        "id": "XaX2BneDw3hS"
      },
      "execution_count": null,
      "outputs": []
    },
    {
      "cell_type": "code",
      "source": [
        "np.asarray(X_train).shape"
      ],
      "metadata": {
        "colab": {
          "base_uri": "https://localhost:8080/"
        },
        "id": "-kNJBZmsa6g9",
        "outputId": "1d866480-0155-4a87-dcac-96d403394445"
      },
      "execution_count": null,
      "outputs": [
        {
          "output_type": "execute_result",
          "data": {
            "text/plain": [
              "(336, 52, 52, 3)"
            ]
          },
          "metadata": {},
          "execution_count": 97
        }
      ]
    },
    {
      "cell_type": "code",
      "source": [
        "y_train.shape"
      ],
      "metadata": {
        "colab": {
          "base_uri": "https://localhost:8080/"
        },
        "id": "zNtfbgDNergT",
        "outputId": "538f0e09-d4d8-460a-e121-1280fb228a89"
      },
      "execution_count": null,
      "outputs": [
        {
          "output_type": "execute_result",
          "data": {
            "text/plain": [
              "(502,)"
            ]
          },
          "metadata": {},
          "execution_count": 76
        }
      ]
    },
    {
      "cell_type": "code",
      "source": [
        "import numpy as np\n",
        "\n",
        "neural_net.fit(np.asarray(X), y, epochs = 10)"
      ],
      "metadata": {
        "colab": {
          "base_uri": "https://localhost:8080/"
        },
        "id": "V5n3rWSUxm23",
        "outputId": "f91cec9a-0fa0-4a4a-9b8e-f47f4eae1ea3"
      },
      "execution_count": null,
      "outputs": [
        {
          "output_type": "stream",
          "name": "stdout",
          "text": [
            "Epoch 1/10\n",
            "16/16 [==============================] - 6s 373ms/step - loss: 0.0000e+00 - acc: 0.8048\n",
            "Epoch 2/10\n",
            "16/16 [==============================] - 6s 371ms/step - loss: 0.0000e+00 - acc: 0.8048\n",
            "Epoch 3/10\n",
            "16/16 [==============================] - 6s 376ms/step - loss: 0.0000e+00 - acc: 0.8048\n",
            "Epoch 4/10\n",
            "16/16 [==============================] - 6s 371ms/step - loss: 0.0000e+00 - acc: 0.8048\n",
            "Epoch 5/10\n",
            "16/16 [==============================] - 6s 368ms/step - loss: 0.0000e+00 - acc: 0.8048\n",
            "Epoch 6/10\n",
            "16/16 [==============================] - 6s 374ms/step - loss: 0.0000e+00 - acc: 0.8048\n",
            "Epoch 7/10\n",
            "16/16 [==============================] - 6s 374ms/step - loss: 0.0000e+00 - acc: 0.8048\n",
            "Epoch 8/10\n",
            "16/16 [==============================] - 6s 381ms/step - loss: 0.0000e+00 - acc: 0.8048\n",
            "Epoch 9/10\n",
            "16/16 [==============================] - 7s 452ms/step - loss: 0.0000e+00 - acc: 0.8048\n",
            "Epoch 10/10\n",
            "16/16 [==============================] - 6s 395ms/step - loss: 0.0000e+00 - acc: 0.8048\n"
          ]
        },
        {
          "output_type": "execute_result",
          "data": {
            "text/plain": [
              "<keras.callbacks.History at 0x7fb3a302f670>"
            ]
          },
          "metadata": {},
          "execution_count": 100
        }
      ]
    },
    {
      "cell_type": "code",
      "source": [
        "# x_train = np.asarray(X_train).astype(np.float32)\n",
        "y = np.asarray(y).astype(np.float32)"
      ],
      "metadata": {
        "id": "HmlFLJNcx5z_"
      },
      "execution_count": null,
      "outputs": []
    },
    {
      "cell_type": "code",
      "source": [
        "type(X_tr[0][0][0])"
      ],
      "metadata": {
        "colab": {
          "base_uri": "https://localhost:8080/"
        },
        "id": "k6g_O8VSyINi",
        "outputId": "5bb49b10-c1c9-43bd-ce14-67aef8895fe4"
      },
      "execution_count": null,
      "outputs": [
        {
          "output_type": "execute_result",
          "data": {
            "text/plain": [
              "numpy.ndarray"
            ]
          },
          "metadata": {},
          "execution_count": 43
        }
      ]
    },
    {
      "cell_type": "code",
      "source": [],
      "metadata": {
        "id": "pzGkasWwzHqh"
      },
      "execution_count": null,
      "outputs": []
    }
  ]
}